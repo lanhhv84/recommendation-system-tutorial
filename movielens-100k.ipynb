{
 "cells": [
  {
   "cell_type": "markdown",
   "metadata": {},
   "source": [
    "### 0. Data Preprocessing"
   ]
  },
  {
   "cell_type": "code",
   "execution_count": 1,
   "metadata": {},
   "outputs": [],
   "source": [
    "import pandas as pd"
   ]
  },
  {
   "cell_type": "code",
   "execution_count": 2,
   "metadata": {},
   "outputs": [],
   "source": [
    "udata = pd.read_csv('./data/ml-100k/u.data', sep='\\t', header=None, names=['userId', 'itemId', 'rating', 'timestamp'])\n",
    "ugenre = pd.read_csv('./data/ml-100k/u.genre', sep='|', header=None)\n",
    "uitem = pd.read_csv('./data/ml-100k/u.item', sep='|', header=None, encoding='latin-1', names=['id', 'title', 'date', 'NaN', 'link', *[str(x) for x in list(range(19))]])\n",
    "uuser = pd.read_csv('./data/ml-100k/u.user', sep='|', header=None, names=['userId', 'age', 'gender', 'occupation', 'zipcode'], encoding='latin-1')"
   ]
  },
  {
   "cell_type": "code",
   "execution_count": 3,
   "metadata": {},
   "outputs": [
    {
     "data": {
      "text/html": [
       "<div>\n",
       "<style scoped>\n",
       "    .dataframe tbody tr th:only-of-type {\n",
       "        vertical-align: middle;\n",
       "    }\n",
       "\n",
       "    .dataframe tbody tr th {\n",
       "        vertical-align: top;\n",
       "    }\n",
       "\n",
       "    .dataframe thead th {\n",
       "        text-align: right;\n",
       "    }\n",
       "</style>\n",
       "<table border=\"1\" class=\"dataframe\">\n",
       "  <thead>\n",
       "    <tr style=\"text-align: right;\">\n",
       "      <th></th>\n",
       "      <th>id</th>\n",
       "      <th>title</th>\n",
       "      <th>date</th>\n",
       "      <th>NaN</th>\n",
       "      <th>link</th>\n",
       "      <th>0</th>\n",
       "      <th>1</th>\n",
       "      <th>2</th>\n",
       "      <th>3</th>\n",
       "      <th>4</th>\n",
       "      <th>...</th>\n",
       "      <th>9</th>\n",
       "      <th>10</th>\n",
       "      <th>11</th>\n",
       "      <th>12</th>\n",
       "      <th>13</th>\n",
       "      <th>14</th>\n",
       "      <th>15</th>\n",
       "      <th>16</th>\n",
       "      <th>17</th>\n",
       "      <th>18</th>\n",
       "    </tr>\n",
       "  </thead>\n",
       "  <tbody>\n",
       "    <tr>\n",
       "      <th>0</th>\n",
       "      <td>1</td>\n",
       "      <td>Toy Story (1995)</td>\n",
       "      <td>01-Jan-1995</td>\n",
       "      <td>NaN</td>\n",
       "      <td>http://us.imdb.com/M/title-exact?Toy%20Story%2...</td>\n",
       "      <td>0</td>\n",
       "      <td>0</td>\n",
       "      <td>0</td>\n",
       "      <td>1</td>\n",
       "      <td>1</td>\n",
       "      <td>...</td>\n",
       "      <td>0</td>\n",
       "      <td>0</td>\n",
       "      <td>0</td>\n",
       "      <td>0</td>\n",
       "      <td>0</td>\n",
       "      <td>0</td>\n",
       "      <td>0</td>\n",
       "      <td>0</td>\n",
       "      <td>0</td>\n",
       "      <td>0</td>\n",
       "    </tr>\n",
       "    <tr>\n",
       "      <th>1</th>\n",
       "      <td>2</td>\n",
       "      <td>GoldenEye (1995)</td>\n",
       "      <td>01-Jan-1995</td>\n",
       "      <td>NaN</td>\n",
       "      <td>http://us.imdb.com/M/title-exact?GoldenEye%20(...</td>\n",
       "      <td>0</td>\n",
       "      <td>1</td>\n",
       "      <td>1</td>\n",
       "      <td>0</td>\n",
       "      <td>0</td>\n",
       "      <td>...</td>\n",
       "      <td>0</td>\n",
       "      <td>0</td>\n",
       "      <td>0</td>\n",
       "      <td>0</td>\n",
       "      <td>0</td>\n",
       "      <td>0</td>\n",
       "      <td>0</td>\n",
       "      <td>1</td>\n",
       "      <td>0</td>\n",
       "      <td>0</td>\n",
       "    </tr>\n",
       "    <tr>\n",
       "      <th>2</th>\n",
       "      <td>3</td>\n",
       "      <td>Four Rooms (1995)</td>\n",
       "      <td>01-Jan-1995</td>\n",
       "      <td>NaN</td>\n",
       "      <td>http://us.imdb.com/M/title-exact?Four%20Rooms%...</td>\n",
       "      <td>0</td>\n",
       "      <td>0</td>\n",
       "      <td>0</td>\n",
       "      <td>0</td>\n",
       "      <td>0</td>\n",
       "      <td>...</td>\n",
       "      <td>0</td>\n",
       "      <td>0</td>\n",
       "      <td>0</td>\n",
       "      <td>0</td>\n",
       "      <td>0</td>\n",
       "      <td>0</td>\n",
       "      <td>0</td>\n",
       "      <td>1</td>\n",
       "      <td>0</td>\n",
       "      <td>0</td>\n",
       "    </tr>\n",
       "    <tr>\n",
       "      <th>3</th>\n",
       "      <td>4</td>\n",
       "      <td>Get Shorty (1995)</td>\n",
       "      <td>01-Jan-1995</td>\n",
       "      <td>NaN</td>\n",
       "      <td>http://us.imdb.com/M/title-exact?Get%20Shorty%...</td>\n",
       "      <td>0</td>\n",
       "      <td>1</td>\n",
       "      <td>0</td>\n",
       "      <td>0</td>\n",
       "      <td>0</td>\n",
       "      <td>...</td>\n",
       "      <td>0</td>\n",
       "      <td>0</td>\n",
       "      <td>0</td>\n",
       "      <td>0</td>\n",
       "      <td>0</td>\n",
       "      <td>0</td>\n",
       "      <td>0</td>\n",
       "      <td>0</td>\n",
       "      <td>0</td>\n",
       "      <td>0</td>\n",
       "    </tr>\n",
       "    <tr>\n",
       "      <th>4</th>\n",
       "      <td>5</td>\n",
       "      <td>Copycat (1995)</td>\n",
       "      <td>01-Jan-1995</td>\n",
       "      <td>NaN</td>\n",
       "      <td>http://us.imdb.com/M/title-exact?Copycat%20(1995)</td>\n",
       "      <td>0</td>\n",
       "      <td>0</td>\n",
       "      <td>0</td>\n",
       "      <td>0</td>\n",
       "      <td>0</td>\n",
       "      <td>...</td>\n",
       "      <td>0</td>\n",
       "      <td>0</td>\n",
       "      <td>0</td>\n",
       "      <td>0</td>\n",
       "      <td>0</td>\n",
       "      <td>0</td>\n",
       "      <td>0</td>\n",
       "      <td>1</td>\n",
       "      <td>0</td>\n",
       "      <td>0</td>\n",
       "    </tr>\n",
       "  </tbody>\n",
       "</table>\n",
       "<p>5 rows × 24 columns</p>\n",
       "</div>"
      ],
      "text/plain": [
       "   id              title         date  NaN  \\\n",
       "0   1   Toy Story (1995)  01-Jan-1995  NaN   \n",
       "1   2   GoldenEye (1995)  01-Jan-1995  NaN   \n",
       "2   3  Four Rooms (1995)  01-Jan-1995  NaN   \n",
       "3   4  Get Shorty (1995)  01-Jan-1995  NaN   \n",
       "4   5     Copycat (1995)  01-Jan-1995  NaN   \n",
       "\n",
       "                                                link  0  1  2  3  4  ...  9  \\\n",
       "0  http://us.imdb.com/M/title-exact?Toy%20Story%2...  0  0  0  1  1  ...  0   \n",
       "1  http://us.imdb.com/M/title-exact?GoldenEye%20(...  0  1  1  0  0  ...  0   \n",
       "2  http://us.imdb.com/M/title-exact?Four%20Rooms%...  0  0  0  0  0  ...  0   \n",
       "3  http://us.imdb.com/M/title-exact?Get%20Shorty%...  0  1  0  0  0  ...  0   \n",
       "4  http://us.imdb.com/M/title-exact?Copycat%20(1995)  0  0  0  0  0  ...  0   \n",
       "\n",
       "   10  11  12  13  14  15  16  17  18  \n",
       "0   0   0   0   0   0   0   0   0   0  \n",
       "1   0   0   0   0   0   0   1   0   0  \n",
       "2   0   0   0   0   0   0   1   0   0  \n",
       "3   0   0   0   0   0   0   0   0   0  \n",
       "4   0   0   0   0   0   0   1   0   0  \n",
       "\n",
       "[5 rows x 24 columns]"
      ]
     },
     "execution_count": 3,
     "metadata": {},
     "output_type": "execute_result"
    }
   ],
   "source": [
    "uitem.head()"
   ]
  },
  {
   "cell_type": "code",
   "execution_count": 4,
   "metadata": {},
   "outputs": [
    {
     "data": {
      "text/html": [
       "<div>\n",
       "<style scoped>\n",
       "    .dataframe tbody tr th:only-of-type {\n",
       "        vertical-align: middle;\n",
       "    }\n",
       "\n",
       "    .dataframe tbody tr th {\n",
       "        vertical-align: top;\n",
       "    }\n",
       "\n",
       "    .dataframe thead th {\n",
       "        text-align: right;\n",
       "    }\n",
       "</style>\n",
       "<table border=\"1\" class=\"dataframe\">\n",
       "  <thead>\n",
       "    <tr style=\"text-align: right;\">\n",
       "      <th></th>\n",
       "      <th>userId</th>\n",
       "      <th>itemId</th>\n",
       "      <th>rating</th>\n",
       "      <th>timestamp</th>\n",
       "    </tr>\n",
       "  </thead>\n",
       "  <tbody>\n",
       "    <tr>\n",
       "      <th>0</th>\n",
       "      <td>196</td>\n",
       "      <td>242</td>\n",
       "      <td>3</td>\n",
       "      <td>881250949</td>\n",
       "    </tr>\n",
       "    <tr>\n",
       "      <th>1</th>\n",
       "      <td>186</td>\n",
       "      <td>302</td>\n",
       "      <td>3</td>\n",
       "      <td>891717742</td>\n",
       "    </tr>\n",
       "    <tr>\n",
       "      <th>2</th>\n",
       "      <td>22</td>\n",
       "      <td>377</td>\n",
       "      <td>1</td>\n",
       "      <td>878887116</td>\n",
       "    </tr>\n",
       "    <tr>\n",
       "      <th>3</th>\n",
       "      <td>244</td>\n",
       "      <td>51</td>\n",
       "      <td>2</td>\n",
       "      <td>880606923</td>\n",
       "    </tr>\n",
       "    <tr>\n",
       "      <th>4</th>\n",
       "      <td>166</td>\n",
       "      <td>346</td>\n",
       "      <td>1</td>\n",
       "      <td>886397596</td>\n",
       "    </tr>\n",
       "  </tbody>\n",
       "</table>\n",
       "</div>"
      ],
      "text/plain": [
       "   userId  itemId  rating  timestamp\n",
       "0     196     242       3  881250949\n",
       "1     186     302       3  891717742\n",
       "2      22     377       1  878887116\n",
       "3     244      51       2  880606923\n",
       "4     166     346       1  886397596"
      ]
     },
     "execution_count": 4,
     "metadata": {},
     "output_type": "execute_result"
    }
   ],
   "source": [
    "udata.head()"
   ]
  },
  {
   "cell_type": "code",
   "execution_count": 5,
   "metadata": {},
   "outputs": [
    {
     "data": {
      "text/html": [
       "<div>\n",
       "<style scoped>\n",
       "    .dataframe tbody tr th:only-of-type {\n",
       "        vertical-align: middle;\n",
       "    }\n",
       "\n",
       "    .dataframe tbody tr th {\n",
       "        vertical-align: top;\n",
       "    }\n",
       "\n",
       "    .dataframe thead th {\n",
       "        text-align: right;\n",
       "    }\n",
       "</style>\n",
       "<table border=\"1\" class=\"dataframe\">\n",
       "  <thead>\n",
       "    <tr style=\"text-align: right;\">\n",
       "      <th></th>\n",
       "      <th>userId</th>\n",
       "      <th>age</th>\n",
       "      <th>gender</th>\n",
       "      <th>occupation</th>\n",
       "      <th>zipcode</th>\n",
       "    </tr>\n",
       "  </thead>\n",
       "  <tbody>\n",
       "    <tr>\n",
       "      <th>0</th>\n",
       "      <td>1</td>\n",
       "      <td>24</td>\n",
       "      <td>M</td>\n",
       "      <td>technician</td>\n",
       "      <td>85711</td>\n",
       "    </tr>\n",
       "    <tr>\n",
       "      <th>1</th>\n",
       "      <td>2</td>\n",
       "      <td>53</td>\n",
       "      <td>F</td>\n",
       "      <td>other</td>\n",
       "      <td>94043</td>\n",
       "    </tr>\n",
       "    <tr>\n",
       "      <th>2</th>\n",
       "      <td>3</td>\n",
       "      <td>23</td>\n",
       "      <td>M</td>\n",
       "      <td>writer</td>\n",
       "      <td>32067</td>\n",
       "    </tr>\n",
       "    <tr>\n",
       "      <th>3</th>\n",
       "      <td>4</td>\n",
       "      <td>24</td>\n",
       "      <td>M</td>\n",
       "      <td>technician</td>\n",
       "      <td>43537</td>\n",
       "    </tr>\n",
       "    <tr>\n",
       "      <th>4</th>\n",
       "      <td>5</td>\n",
       "      <td>33</td>\n",
       "      <td>F</td>\n",
       "      <td>other</td>\n",
       "      <td>15213</td>\n",
       "    </tr>\n",
       "  </tbody>\n",
       "</table>\n",
       "</div>"
      ],
      "text/plain": [
       "   userId  age gender  occupation zipcode\n",
       "0       1   24      M  technician   85711\n",
       "1       2   53      F       other   94043\n",
       "2       3   23      M      writer   32067\n",
       "3       4   24      M  technician   43537\n",
       "4       5   33      F       other   15213"
      ]
     },
     "execution_count": 5,
     "metadata": {},
     "output_type": "execute_result"
    }
   ],
   "source": [
    "uuser.head()"
   ]
  },
  {
   "cell_type": "markdown",
   "metadata": {},
   "source": [
    "### 0. Import, Hyperparameters"
   ]
  },
  {
   "cell_type": "code",
   "execution_count": 6,
   "metadata": {},
   "outputs": [],
   "source": [
    "import torch.nn as nn\n",
    "from torch.autograd import Variable\n",
    "import torch\n",
    "from torch.utils.data import Dataset, DataLoader\n",
    "from tqdm import tqdm_notebook as tqdm\n",
    "from random import shuffle\n",
    "\n",
    "device = torch.device(\"cuda\" if torch.cuda.is_available() else \"cpu\")"
   ]
  },
  {
   "cell_type": "code",
   "execution_count": 7,
   "metadata": {},
   "outputs": [],
   "source": [
    "lst_uid = list(sorted(udata.userId.unique().tolist()))\n",
    "lst_fid = list(sorted(udata.itemId.unique().tolist()))"
   ]
  },
  {
   "cell_type": "code",
   "execution_count": null,
   "metadata": {},
   "outputs": [],
   "source": []
  },
  {
   "cell_type": "code",
   "execution_count": 8,
   "metadata": {},
   "outputs": [],
   "source": [
    "class MovieLenDataset(Dataset):\n",
    "    \n",
    "    def __init__(self, udata):\n",
    "        \n",
    "        self.user = udata.userId.tolist()\n",
    "        self.item = udata.itemId.tolist()\n",
    "        self.rating = udata.rating.tolist()\n",
    "        \n",
    "    def __len__(self):\n",
    "        return len(self.user)\n",
    "    \n",
    "    def __getitem__(self, idx):\n",
    "        return self.user[idx], self.item[idx], self.rating[idx]\n",
    "    \n",
    "    @staticmethod\n",
    "    def collate(batch):\n",
    "        user = torch.LongTensor([x[0] for x in batch])\n",
    "        item = torch.LongTensor([x[1] for x in batch])\n",
    "        rating = torch.FloatTensor([x[2] for x in batch])\n",
    "        return user.to(device), item.to(device), rating.to(device)"
   ]
  },
  {
   "cell_type": "code",
   "execution_count": 26,
   "metadata": {},
   "outputs": [],
   "source": [
    "epochs = 100000\n",
    "lr = 1e-3\n",
    "n_factors = 32\n",
    "n_user = 1 + lst_uid[-1]\n",
    "n_movie = 1 + lst_fid[-1]\n",
    "out_range = [min(udata.rating.tolist()) - 0.1, max(udata.rating.tolist()) + 0.1]\n",
    "criteration = nn.MSELoss(reduction='mean')\n",
    "lr=1e-2\n",
    "wd=0\n",
    "print_step = epochs // 20\n",
    "batch_size = 256\n"
   ]
  },
  {
   "cell_type": "code",
   "execution_count": 10,
   "metadata": {},
   "outputs": [],
   "source": [
    "dataset = MovieLenDataset(udata=udata)\n",
    "loader = DataLoader(dataset=dataset, collate_fn=MovieLenDataset.collate, batch_size = batch_size)"
   ]
  },
  {
   "cell_type": "markdown",
   "metadata": {},
   "source": [
    "### 1. Embedding: UserId, Film $\\rightarrow$ Rating (17%)"
   ]
  },
  {
   "cell_type": "code",
   "execution_count": 11,
   "metadata": {},
   "outputs": [],
   "source": [
    "user = torch.LongTensor(udata.userId.tolist()).to(device)\n",
    "item = torch.LongTensor(udata.itemId.tolist()).to(device)\n",
    "rating = torch.FloatTensor(udata.rating.tolist()).to(device)"
   ]
  },
  {
   "cell_type": "code",
   "execution_count": 12,
   "metadata": {},
   "outputs": [],
   "source": [
    "class MovieLenModel(nn.Module):\n",
    "    \n",
    "    def __init__(self, n_user, n_title, n_factors=32, out_range=[0, 1]):\n",
    "        super(MovieLenModel, self).__init__()\n",
    "        # self.bias = torch.nn.Parameter(data=torch.Tensor(1, n_factors), requires_grad=True)\n",
    "        # self.bias.data.uniform_(-1, 1)\n",
    "#         self.extra_w = torch.nn.Parameter(data=torch.Tensor(n_factors, n_factors), requires_grad=True)\n",
    "#         self.extra_w.data.uniform_(-1, 1)\n",
    "\n",
    "        self.movie_bias = nn.Embedding(n_title, 1)\n",
    "        self.user_bias = nn.Embedding(n_user, 1)\n",
    "        \n",
    "    \n",
    "        self.movie_emb = nn.Embedding(n_title, n_factors)\n",
    "        self.user_emb = nn.Embedding(n_user, n_factors)\n",
    "        \n",
    "        nn.init.normal_(self.movie_emb.weight)\n",
    "        nn.init.normal_(self.user_emb.weight)\n",
    "        self.out = lambda x: (x + 1) *(out_range[1] - out_range[0]) / 2 + out_range[0]\n",
    "        \n",
    "        self.sigmoid = nn.Tanh()\n",
    "        \n",
    "    def forward(self, user, movie):\n",
    "        movie_w = self.movie_emb(movie)\n",
    "        user_w = self.user_emb(user)\n",
    "        movie_bias = self.movie_bias(movie)\n",
    "        user_bias = self.user_bias(user)\n",
    "        out = movie_w*user_w + movie_bias*user_bias\n",
    "        out = torch.sum(out , dim=1)\n",
    "        out = self.out(self.sigmoid(out))\n",
    "        return out"
   ]
  },
  {
   "cell_type": "code",
   "execution_count": 13,
   "metadata": {},
   "outputs": [],
   "source": [
    "model = MovieLenModel(n_user=n_user, n_title=n_movie, n_factors=n_factors, out_range=out_range)\n",
    "model = model.to(device)"
   ]
  },
  {
   "cell_type": "code",
   "execution_count": 19,
   "metadata": {},
   "outputs": [],
   "source": [
    "optimizer = torch.optim.SGD(filter(lambda x: x.requires_grad, model.parameters()), lr=0.5, momentum=0.7)"
   ]
  },
  {
   "cell_type": "code",
   "execution_count": null,
   "metadata": {},
   "outputs": [
    {
     "data": {
      "application/vnd.jupyter.widget-view+json": {
       "model_id": "ccee251b2aab4887aa888d450eebc601",
       "version_major": 2,
       "version_minor": 0
      },
      "text/plain": [
       "HBox(children=(IntProgress(value=0, max=100000), HTML(value='')))"
      ]
     },
     "metadata": {},
     "output_type": "display_data"
    },
    {
     "name": "stdout",
     "output_type": "stream",
     "text": [
      "Epoch 1/100000 Loss 1.2942843437194824\n",
      "Epoch 5001/100000 Loss 1.1428219079971313\n",
      "Epoch 10001/100000 Loss 1.016632080078125\n",
      "Epoch 15001/100000 Loss 0.9164386987686157\n",
      "Epoch 20001/100000 Loss 0.8391782641410828\n",
      "Epoch 25001/100000 Loss 0.7755985260009766\n",
      "Epoch 30001/100000 Loss 0.7232488393783569\n",
      "Epoch 35001/100000 Loss 0.6857067942619324\n",
      "Epoch 40001/100000 Loss 0.6533280611038208\n",
      "Epoch 45001/100000 Loss 0.6230920553207397\n",
      "Epoch 50001/100000 Loss 0.594969630241394\n",
      "Epoch 55001/100000 Loss 0.5725213289260864\n",
      "Epoch 60001/100000 Loss 0.5529027581214905\n",
      "Epoch 65001/100000 Loss 0.5333041548728943\n",
      "Epoch 70001/100000 Loss 0.5170705318450928\n",
      "Epoch 75001/100000 Loss 0.5017793774604797\n",
      "Epoch 80001/100000 Loss 0.4898618459701538\n",
      "Epoch 85001/100000 Loss 0.47970059514045715\n"
     ]
    }
   ],
   "source": [
    "\n",
    "\n",
    "for i in tqdm(range(epochs)):\n",
    "    predicted = model(user, item)\n",
    "    loss = criteration(predicted, rating)\n",
    "    optimizer.zero_grad()\n",
    "    loss.backward()\n",
    "    optimizer.step()\n",
    "    if i % print_step == 0:\n",
    "        print('Epoch {}/{} Loss {}'.format(i + 1, epochs, loss.item()))\n",
    "    \n",
    "    "
   ]
  },
  {
   "cell_type": "code",
   "execution_count": 25,
   "metadata": {},
   "outputs": [
    {
     "data": {
      "text/plain": [
       "0.5987899899482727"
      ]
     },
     "execution_count": 25,
     "metadata": {},
     "output_type": "execute_result"
    }
   ],
   "source": [
    "predicted = model(user, item).round().long()\n",
    "lr = rating.long()\n",
    "accuracy = (torch.sum(predicted == lr).float()/predicted.shape[0]).item(); accuracy"
   ]
  },
  {
   "cell_type": "code",
   "execution_count": 22,
   "metadata": {},
   "outputs": [
    {
     "data": {
      "text/plain": [
       "tensor([5, 1, 1,  ..., 5, 1, 5])"
      ]
     },
     "execution_count": 22,
     "metadata": {},
     "output_type": "execute_result"
    }
   ],
   "source": [
    "predicted"
   ]
  },
  {
   "cell_type": "markdown",
   "metadata": {},
   "source": [
    "### 2. Embedding: UserId, Film $\\rightarrow$ Rating (17%)"
   ]
  },
  {
   "cell_type": "code",
   "execution_count": null,
   "metadata": {},
   "outputs": [],
   "source": [
    "class MovieLenModel(nn.Module):\n",
    "    \n",
    "    def __init__(self, n_user, n_title, n_factors=32, out_range=[0, 1]):\n",
    "        super(MovieLenModel, self).__init__()\n",
    "        self.bias = torch.nn.Parameter(data=torch.Tensor(1, n_factors), requires_grad=True)\n",
    "        self.bias.data.uniform_(-1, 1)\n",
    "        self.movie_emb = nn.Embedding(n_title, n_factors)\n",
    "        self.user_emb = nn.Embedding(n_user, n_factors)\n",
    "        nn.init.normal_(self.movie_emb.weight)\n",
    "        nn.init.normal_(self.user_emb.weight)\n",
    "        self.linear = nn.Linear(n_factors*2, 10)\n",
    "        self.out = lambda x: x#(x + 1) *(out_range[1] - out_range[0]) / 2 + out_range[0]\n",
    "        self.sigmoid = nn.Softmax(dim=1)\n",
    "        \n",
    "    def forward(self, user, movie):\n",
    "        movie = self.movie_emb(movie)\n",
    "        user = self.user_emb(user)\n",
    "        out = torch.cat([movie, user], dim=1)\n",
    "        out = self.linear(out)\n",
    "        out = self.out(self.sigmoid(out))\n",
    "        return out"
   ]
  },
  {
   "cell_type": "code",
   "execution_count": null,
   "metadata": {},
   "outputs": [],
   "source": [
    "model = MovieLenModel(n_user=n_user, n_title=n_movie, n_factors=n_factors, out_range=out_range)\n",
    "model = model.to(device)"
   ]
  },
  {
   "cell_type": "code",
   "execution_count": null,
   "metadata": {},
   "outputs": [],
   "source": [
    "sgd = torch.optim.SGD(model.parameters(), lr=1e-4, weight_decay=wd)\n",
    "for i in tqdm(range(epochs)):\n",
    "    total = 0\n",
    "    for user , item, rating in loader:\n",
    "        predicted = model(user, item)\n",
    "        loss = criteration(predicted, rating)\n",
    "        total += loss.item()\n",
    "        optimizer.zero_grad()\n",
    "        loss.backward()\n",
    "        optimizer.step()\n",
    "    if i % print_step == 0:\n",
    "        print('Epoch {}/{} Loss {}'.format(i + 1, epochs, loss.item()))\n",
    "    "
   ]
  },
  {
   "cell_type": "code",
   "execution_count": null,
   "metadata": {},
   "outputs": [],
   "source": [
    "predicted = model(user, item).round().long()\n",
    "lr = rating.long()\n",
    "accuracy = (torch.sum(lp == lr).float()/predicted.shape[0]).item(); accuracy"
   ]
  },
  {
   "cell_type": "markdown",
   "metadata": {},
   "source": [
    "### 3. "
   ]
  },
  {
   "cell_type": "code",
   "execution_count": null,
   "metadata": {},
   "outputs": [],
   "source": [
    "len(udata), len(uuser), len(uitem)"
   ]
  },
  {
   "cell_type": "code",
   "execution_count": null,
   "metadata": {},
   "outputs": [],
   "source": [
    "len()"
   ]
  }
 ],
 "metadata": {
  "kernelspec": {
   "display_name": "Python 3",
   "language": "python",
   "name": "python3"
  },
  "language_info": {
   "codemirror_mode": {
    "name": "ipython",
    "version": 3
   },
   "file_extension": ".py",
   "mimetype": "text/x-python",
   "name": "python",
   "nbconvert_exporter": "python",
   "pygments_lexer": "ipython3",
   "version": "3.7.3"
  }
 },
 "nbformat": 4,
 "nbformat_minor": 2
}
